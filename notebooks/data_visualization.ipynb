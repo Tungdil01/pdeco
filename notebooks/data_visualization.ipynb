{
 "cells": [
  {
   "cell_type": "code",
   "execution_count": 1,
   "metadata": {},
   "outputs": [],
   "source": [
    "import pandas as pd\n",
    "import matplotlib.pyplot as plt"
   ]
  },
  {
   "cell_type": "markdown",
   "metadata": {},
   "source": [
    "Loading the data:"
   ]
  },
  {
   "cell_type": "code",
   "execution_count": 2,
   "metadata": {},
   "outputs": [
    {
     "data": {
      "text/html": [
       "<div>\n",
       "<style scoped>\n",
       "    .dataframe tbody tr th:only-of-type {\n",
       "        vertical-align: middle;\n",
       "    }\n",
       "\n",
       "    .dataframe tbody tr th {\n",
       "        vertical-align: top;\n",
       "    }\n",
       "\n",
       "    .dataframe thead th {\n",
       "        text-align: right;\n",
       "    }\n",
       "</style>\n",
       "<table border=\"1\" class=\"dataframe\">\n",
       "  <thead>\n",
       "    <tr style=\"text-align: right;\">\n",
       "      <th></th>\n",
       "      <th>variable</th>\n",
       "      <th>time</th>\n",
       "      <th>x</th>\n",
       "      <th>density</th>\n",
       "    </tr>\n",
       "  </thead>\n",
       "  <tbody>\n",
       "    <tr>\n",
       "      <th>0</th>\n",
       "      <td>aphid</td>\n",
       "      <td>0</td>\n",
       "      <td>0.871987</td>\n",
       "      <td>19.834058</td>\n",
       "    </tr>\n",
       "    <tr>\n",
       "      <th>1</th>\n",
       "      <td>aphid</td>\n",
       "      <td>0</td>\n",
       "      <td>1.947155</td>\n",
       "      <td>70.841565</td>\n",
       "    </tr>\n",
       "    <tr>\n",
       "      <th>2</th>\n",
       "      <td>aphid</td>\n",
       "      <td>0</td>\n",
       "      <td>2.979356</td>\n",
       "      <td>264.045832</td>\n",
       "    </tr>\n",
       "    <tr>\n",
       "      <th>3</th>\n",
       "      <td>aphid</td>\n",
       "      <td>0</td>\n",
       "      <td>4.172066</td>\n",
       "      <td>620.308179</td>\n",
       "    </tr>\n",
       "    <tr>\n",
       "      <th>4</th>\n",
       "      <td>aphid</td>\n",
       "      <td>0</td>\n",
       "      <td>5.074378</td>\n",
       "      <td>434.176215</td>\n",
       "    </tr>\n",
       "    <tr>\n",
       "      <th>...</th>\n",
       "      <td>...</td>\n",
       "      <td>...</td>\n",
       "      <td>...</td>\n",
       "      <td>...</td>\n",
       "    </tr>\n",
       "    <tr>\n",
       "      <th>60</th>\n",
       "      <td>ladybeetle</td>\n",
       "      <td>3</td>\n",
       "      <td>33.402439</td>\n",
       "      <td>8.475289</td>\n",
       "    </tr>\n",
       "    <tr>\n",
       "      <th>61</th>\n",
       "      <td>ladybeetle</td>\n",
       "      <td>3</td>\n",
       "      <td>34.073171</td>\n",
       "      <td>7.438383</td>\n",
       "    </tr>\n",
       "    <tr>\n",
       "      <th>62</th>\n",
       "      <td>ladybeetle</td>\n",
       "      <td>3</td>\n",
       "      <td>35.597561</td>\n",
       "      <td>1.256418</td>\n",
       "    </tr>\n",
       "    <tr>\n",
       "      <th>63</th>\n",
       "      <td>ladybeetle</td>\n",
       "      <td>3</td>\n",
       "      <td>36.573171</td>\n",
       "      <td>0.372593</td>\n",
       "    </tr>\n",
       "    <tr>\n",
       "      <th>64</th>\n",
       "      <td>ladybeetle</td>\n",
       "      <td>3</td>\n",
       "      <td>37.914634</td>\n",
       "      <td>0.000000</td>\n",
       "    </tr>\n",
       "  </tbody>\n",
       "</table>\n",
       "<p>65 rows × 4 columns</p>\n",
       "</div>"
      ],
      "text/plain": [
       "      variable  time          x     density\n",
       "0        aphid     0   0.871987   19.834058\n",
       "1        aphid     0   1.947155   70.841565\n",
       "2        aphid     0   2.979356  264.045832\n",
       "3        aphid     0   4.172066  620.308179\n",
       "4        aphid     0   5.074378  434.176215\n",
       "..         ...   ...        ...         ...\n",
       "60  ladybeetle     3  33.402439    8.475289\n",
       "61  ladybeetle     3  34.073171    7.438383\n",
       "62  ladybeetle     3  35.597561    1.256418\n",
       "63  ladybeetle     3  36.573171    0.372593\n",
       "64  ladybeetle     3  37.914634    0.000000\n",
       "\n",
       "[65 rows x 4 columns]"
      ]
     },
     "execution_count": 2,
     "metadata": {},
     "output_type": "execute_result"
    }
   ],
   "source": [
    "full_data = pd.read_csv(\"../data/aphid_ladybeetle.csv\")\n",
    "\n",
    "full_data"
   ]
  },
  {
   "cell_type": "markdown",
   "metadata": {},
   "source": [
    "Retrieving data for aphids and labebeetles separetely:"
   ]
  },
  {
   "cell_type": "code",
   "execution_count": 3,
   "metadata": {},
   "outputs": [],
   "source": [
    "aphid_data = full_data[full_data['variable'] == 'aphid']\n",
    "ladybeetle_data = full_data[full_data['variable'] == 'ladybeetle']"
   ]
  },
  {
   "cell_type": "markdown",
   "metadata": {},
   "source": [
    "Creating time labels:"
   ]
  },
  {
   "cell_type": "code",
   "execution_count": 4,
   "metadata": {},
   "outputs": [],
   "source": [
    "time_labels_dict = {\n",
    "    0: 0.0,\n",
    "    1: 1/4,\n",
    "    2: 1.0,\n",
    "    3: 2.0\n",
    "}"
   ]
  },
  {
   "cell_type": "markdown",
   "metadata": {},
   "source": [
    "Plotting data for aphids:"
   ]
  },
  {
   "cell_type": "code",
   "execution_count": 5,
   "metadata": {},
   "outputs": [
    {
     "data": {
      "image/png": "[encoded data removed]",
      "text/plain": [
       "<Figure size 432x288 with 4 Axes>"
      ]
     },
     "metadata": {
      "needs_background": "light"
     },
     "output_type": "display_data"
    }
   ],
   "source": [
    "fig, ax = plt.subplots(1, 4, sharey=True, gridspec_kw={'hspace': 0})\n",
    "fig.suptitle(\"Aphids population distribution\")\n",
    "y_min = 0\n",
    "y_max = 650\n",
    "for label, time_value in time_labels_dict.items():\n",
    "    ax[label].plot(\n",
    "        aphid_data[aphid_data.time == label].x.values, \n",
    "        aphid_data[aphid_data.time == label].density.values,\n",
    "        \"o\",\n",
    "        label=f'Time = {time_value}'\n",
    "    )\n",
    "    ax[label].set_xlabel('x')\n",
    "    if label == 0:\n",
    "        ax[label].set_ylabel(\"Aphid per ten stems\")\n",
    "    ax[label].set_title(f\"Time = {time_value}\")\n",
    "    ax[label].set_xlim(left=0)\n",
    "    ax[label].set_ylim([y_min, y_max])\n",
    "\n",
    "plt.tight_layout()\n",
    "plt.savefig(\"aphid_data.png\", dpi=300)\n",
    "plt.show()"
   ]
  },
  {
   "cell_type": "markdown",
   "metadata": {},
   "source": [
    "Plotting ladybeetles data:"
   ]
  },
  {
   "cell_type": "code",
   "execution_count": 6,
   "metadata": {},
   "outputs": [
    {
     "data": {
      "image/png": "[encoded data removed]",
      "text/plain": [
       "<Figure size 432x288 with 4 Axes>"
      ]
     },
     "metadata": {
      "needs_background": "light"
     },
     "output_type": "display_data"
    }
   ],
   "source": [
    "fig, ax = plt.subplots(1, 4, sharey=True, gridspec_kw={'hspace': 0})\n",
    "fig.suptitle(\"Ladybeetles population distribution\")\n",
    "y_min = 0\n",
    "y_max = 12\n",
    "for label, time_value in time_labels_dict.items():\n",
    "    ax[label].plot(\n",
    "        ladybeetle_data[ladybeetle_data.time == label].x.values, \n",
    "        ladybeetle_data[ladybeetle_data.time == label].density.values,\n",
    "        \"o\",\n",
    "        label=f'Time = {time_value}'\n",
    "    )\n",
    "    ax[label].set_xlabel('x')\n",
    "    if label == 0:\n",
    "        ax[label].set_ylabel(\"Aphid per ten stems\")\n",
    "    ax[label].set_title(f\"Time = {time_value}\")\n",
    "    ax[label].set_xlim(left=0)\n",
    "    ax[label].set_ylim([y_min, y_max])\n",
    "\n",
    "plt.tight_layout()\n",
    "plt.savefig(\"ladybeetle_data.png\", dpi=300)\n",
    "plt.show()"
   ]
  }
 ],
 "metadata": {
  "jupytext": {
   "formats": "ipynb,py:light"
  },
  "kernelspec": {
   "display_name": "Python 3",
   "language": "python",
   "name": "python3"
  },
  "language_info": {
   "codemirror_mode": {
    "name": "ipython",
    "version": 3
   },
   "file_extension": ".py",
   "mimetype": "text/x-python",
   "name": "python",
   "nbconvert_exporter": "python",
   "pygments_lexer": "ipython3",
   "version": "3.8.6"
  }
 },
 "nbformat": 4,
 "nbformat_minor": 4
}

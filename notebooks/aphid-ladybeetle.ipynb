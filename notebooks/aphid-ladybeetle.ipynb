{
 "cells": [
  {
   "cell_type": "markdown",
   "metadata": {},
   "source": [
    "# Aphid-Ladybeetle study"
   ]
  },
  {
   "cell_type": "markdown",
   "metadata": {},
   "source": [
    "## Obtaining Initial Conditions\n",
    "\n",
    "We need to define Initial Conditions as functions in order to define them for each discretization point. Here we will fit ICs as polynomial functions."
   ]
  },
  {
   "cell_type": "markdown",
   "metadata": {},
   "source": [
    "Loading data:"
   ]
  },
  {
   "cell_type": "code",
   "execution_count": 1,
   "metadata": {},
   "outputs": [],
   "source": [
    "import pandas as pd\n",
    "\n",
    "aphid_data = pd.read_csv('../data/aphid.csv')\n",
    "ladybeetle_data = pd.read_csv('../data/ladybeetle.csv')"
   ]
  },
  {
   "cell_type": "code",
   "execution_count": 2,
   "metadata": {},
   "outputs": [
    {
     "data": {
      "text/html": [
       "<div>\n",
       "<style scoped>\n",
       "    .dataframe tbody tr th:only-of-type {\n",
       "        vertical-align: middle;\n",
       "    }\n",
       "\n",
       "    .dataframe tbody tr th {\n",
       "        vertical-align: top;\n",
       "    }\n",
       "\n",
       "    .dataframe thead th {\n",
       "        text-align: right;\n",
       "    }\n",
       "</style>\n",
       "<table border=\"1\" class=\"dataframe\">\n",
       "  <thead>\n",
       "    <tr style=\"text-align: right;\">\n",
       "      <th></th>\n",
       "      <th>variable</th>\n",
       "      <th>time</th>\n",
       "      <th>x</th>\n",
       "      <th>density</th>\n",
       "    </tr>\n",
       "  </thead>\n",
       "  <tbody>\n",
       "    <tr>\n",
       "      <th>0</th>\n",
       "      <td>aphid</td>\n",
       "      <td>0</td>\n",
       "      <td>1.0</td>\n",
       "      <td>19.834058</td>\n",
       "    </tr>\n",
       "    <tr>\n",
       "      <th>1</th>\n",
       "      <td>aphid</td>\n",
       "      <td>0</td>\n",
       "      <td>2.0</td>\n",
       "      <td>70.841565</td>\n",
       "    </tr>\n",
       "    <tr>\n",
       "      <th>2</th>\n",
       "      <td>aphid</td>\n",
       "      <td>0</td>\n",
       "      <td>3.0</td>\n",
       "      <td>264.045832</td>\n",
       "    </tr>\n",
       "    <tr>\n",
       "      <th>3</th>\n",
       "      <td>aphid</td>\n",
       "      <td>0</td>\n",
       "      <td>4.0</td>\n",
       "      <td>620.308179</td>\n",
       "    </tr>\n",
       "    <tr>\n",
       "      <th>4</th>\n",
       "      <td>aphid</td>\n",
       "      <td>0</td>\n",
       "      <td>5.0</td>\n",
       "      <td>434.176215</td>\n",
       "    </tr>\n",
       "    <tr>\n",
       "      <th>5</th>\n",
       "      <td>aphid</td>\n",
       "      <td>0</td>\n",
       "      <td>6.0</td>\n",
       "      <td>96.918214</td>\n",
       "    </tr>\n",
       "    <tr>\n",
       "      <th>6</th>\n",
       "      <td>aphid</td>\n",
       "      <td>0</td>\n",
       "      <td>7.0</td>\n",
       "      <td>38.285263</td>\n",
       "    </tr>\n",
       "    <tr>\n",
       "      <th>7</th>\n",
       "      <td>aphid</td>\n",
       "      <td>0</td>\n",
       "      <td>8.0</td>\n",
       "      <td>15.211379</td>\n",
       "    </tr>\n",
       "    <tr>\n",
       "      <th>8</th>\n",
       "      <td>aphid</td>\n",
       "      <td>1</td>\n",
       "      <td>1.0</td>\n",
       "      <td>11.940299</td>\n",
       "    </tr>\n",
       "    <tr>\n",
       "      <th>9</th>\n",
       "      <td>aphid</td>\n",
       "      <td>1</td>\n",
       "      <td>2.0</td>\n",
       "      <td>74.626866</td>\n",
       "    </tr>\n",
       "    <tr>\n",
       "      <th>10</th>\n",
       "      <td>aphid</td>\n",
       "      <td>1</td>\n",
       "      <td>3.0</td>\n",
       "      <td>226.865672</td>\n",
       "    </tr>\n",
       "    <tr>\n",
       "      <th>11</th>\n",
       "      <td>aphid</td>\n",
       "      <td>1</td>\n",
       "      <td>4.0</td>\n",
       "      <td>507.462687</td>\n",
       "    </tr>\n",
       "    <tr>\n",
       "      <th>12</th>\n",
       "      <td>aphid</td>\n",
       "      <td>1</td>\n",
       "      <td>5.0</td>\n",
       "      <td>373.134328</td>\n",
       "    </tr>\n",
       "    <tr>\n",
       "      <th>13</th>\n",
       "      <td>aphid</td>\n",
       "      <td>1</td>\n",
       "      <td>6.0</td>\n",
       "      <td>80.597015</td>\n",
       "    </tr>\n",
       "    <tr>\n",
       "      <th>14</th>\n",
       "      <td>aphid</td>\n",
       "      <td>1</td>\n",
       "      <td>7.0</td>\n",
       "      <td>20.895522</td>\n",
       "    </tr>\n",
       "    <tr>\n",
       "      <th>15</th>\n",
       "      <td>aphid</td>\n",
       "      <td>1</td>\n",
       "      <td>8.0</td>\n",
       "      <td>0.000000</td>\n",
       "    </tr>\n",
       "    <tr>\n",
       "      <th>16</th>\n",
       "      <td>aphid</td>\n",
       "      <td>2</td>\n",
       "      <td>1.0</td>\n",
       "      <td>47.761194</td>\n",
       "    </tr>\n",
       "    <tr>\n",
       "      <th>17</th>\n",
       "      <td>aphid</td>\n",
       "      <td>2</td>\n",
       "      <td>2.0</td>\n",
       "      <td>95.522388</td>\n",
       "    </tr>\n",
       "    <tr>\n",
       "      <th>18</th>\n",
       "      <td>aphid</td>\n",
       "      <td>2</td>\n",
       "      <td>3.0</td>\n",
       "      <td>137.313433</td>\n",
       "    </tr>\n",
       "    <tr>\n",
       "      <th>19</th>\n",
       "      <td>aphid</td>\n",
       "      <td>2</td>\n",
       "      <td>4.0</td>\n",
       "      <td>340.298507</td>\n",
       "    </tr>\n",
       "    <tr>\n",
       "      <th>20</th>\n",
       "      <td>aphid</td>\n",
       "      <td>2</td>\n",
       "      <td>5.0</td>\n",
       "      <td>319.402985</td>\n",
       "    </tr>\n",
       "    <tr>\n",
       "      <th>21</th>\n",
       "      <td>aphid</td>\n",
       "      <td>2</td>\n",
       "      <td>6.0</td>\n",
       "      <td>74.626866</td>\n",
       "    </tr>\n",
       "    <tr>\n",
       "      <th>22</th>\n",
       "      <td>aphid</td>\n",
       "      <td>2</td>\n",
       "      <td>7.0</td>\n",
       "      <td>38.805970</td>\n",
       "    </tr>\n",
       "    <tr>\n",
       "      <th>23</th>\n",
       "      <td>aphid</td>\n",
       "      <td>2</td>\n",
       "      <td>8.0</td>\n",
       "      <td>26.865672</td>\n",
       "    </tr>\n",
       "    <tr>\n",
       "      <th>24</th>\n",
       "      <td>aphid</td>\n",
       "      <td>3</td>\n",
       "      <td>1.0</td>\n",
       "      <td>35.820896</td>\n",
       "    </tr>\n",
       "    <tr>\n",
       "      <th>25</th>\n",
       "      <td>aphid</td>\n",
       "      <td>3</td>\n",
       "      <td>2.0</td>\n",
       "      <td>80.597015</td>\n",
       "    </tr>\n",
       "    <tr>\n",
       "      <th>26</th>\n",
       "      <td>aphid</td>\n",
       "      <td>3</td>\n",
       "      <td>3.0</td>\n",
       "      <td>110.447761</td>\n",
       "    </tr>\n",
       "    <tr>\n",
       "      <th>27</th>\n",
       "      <td>aphid</td>\n",
       "      <td>3</td>\n",
       "      <td>4.0</td>\n",
       "      <td>214.925373</td>\n",
       "    </tr>\n",
       "    <tr>\n",
       "      <th>28</th>\n",
       "      <td>aphid</td>\n",
       "      <td>3</td>\n",
       "      <td>5.0</td>\n",
       "      <td>197.014925</td>\n",
       "    </tr>\n",
       "    <tr>\n",
       "      <th>29</th>\n",
       "      <td>aphid</td>\n",
       "      <td>3</td>\n",
       "      <td>6.0</td>\n",
       "      <td>65.671642</td>\n",
       "    </tr>\n",
       "    <tr>\n",
       "      <th>30</th>\n",
       "      <td>aphid</td>\n",
       "      <td>3</td>\n",
       "      <td>7.0</td>\n",
       "      <td>44.776119</td>\n",
       "    </tr>\n",
       "    <tr>\n",
       "      <th>31</th>\n",
       "      <td>aphid</td>\n",
       "      <td>3</td>\n",
       "      <td>8.0</td>\n",
       "      <td>47.761194</td>\n",
       "    </tr>\n",
       "  </tbody>\n",
       "</table>\n",
       "</div>"
      ],
      "text/plain": [
       "   variable  time    x     density\n",
       "0     aphid     0  1.0   19.834058\n",
       "1     aphid     0  2.0   70.841565\n",
       "2     aphid     0  3.0  264.045832\n",
       "3     aphid     0  4.0  620.308179\n",
       "4     aphid     0  5.0  434.176215\n",
       "5     aphid     0  6.0   96.918214\n",
       "6     aphid     0  7.0   38.285263\n",
       "7     aphid     0  8.0   15.211379\n",
       "8     aphid     1  1.0   11.940299\n",
       "9     aphid     1  2.0   74.626866\n",
       "10    aphid     1  3.0  226.865672\n",
       "11    aphid     1  4.0  507.462687\n",
       "12    aphid     1  5.0  373.134328\n",
       "13    aphid     1  6.0   80.597015\n",
       "14    aphid     1  7.0   20.895522\n",
       "15    aphid     1  8.0    0.000000\n",
       "16    aphid     2  1.0   47.761194\n",
       "17    aphid     2  2.0   95.522388\n",
       "18    aphid     2  3.0  137.313433\n",
       "19    aphid     2  4.0  340.298507\n",
       "20    aphid     2  5.0  319.402985\n",
       "21    aphid     2  6.0   74.626866\n",
       "22    aphid     2  7.0   38.805970\n",
       "23    aphid     2  8.0   26.865672\n",
       "24    aphid     3  1.0   35.820896\n",
       "25    aphid     3  2.0   80.597015\n",
       "26    aphid     3  3.0  110.447761\n",
       "27    aphid     3  4.0  214.925373\n",
       "28    aphid     3  5.0  197.014925\n",
       "29    aphid     3  6.0   65.671642\n",
       "30    aphid     3  7.0   44.776119\n",
       "31    aphid     3  8.0   47.761194"
      ]
     },
     "execution_count": 2,
     "metadata": {},
     "output_type": "execute_result"
    }
   ],
   "source": [
    "aphid_data"
   ]
  },
  {
   "cell_type": "markdown",
   "metadata": {},
   "source": [
    "Retrieving IC data:"
   ]
  },
  {
   "cell_type": "code",
   "execution_count": 3,
   "metadata": {},
   "outputs": [],
   "source": [
    "aphid_ic_data = aphid_data[aphid_data.time == 0].copy()\n",
    "ladybeetle_ic_data = ladybeetle_data[ladybeetle_data.time == 0].copy()"
   ]
  },
  {
   "cell_type": "code",
   "execution_count": 4,
   "metadata": {},
   "outputs": [
    {
     "data": {
      "text/html": [
       "<div>\n",
       "<style scoped>\n",
       "    .dataframe tbody tr th:only-of-type {\n",
       "        vertical-align: middle;\n",
       "    }\n",
       "\n",
       "    .dataframe tbody tr th {\n",
       "        vertical-align: top;\n",
       "    }\n",
       "\n",
       "    .dataframe thead th {\n",
       "        text-align: right;\n",
       "    }\n",
       "</style>\n",
       "<table border=\"1\" class=\"dataframe\">\n",
       "  <thead>\n",
       "    <tr style=\"text-align: right;\">\n",
       "      <th></th>\n",
       "      <th>variable</th>\n",
       "      <th>time</th>\n",
       "      <th>x</th>\n",
       "      <th>density</th>\n",
       "    </tr>\n",
       "  </thead>\n",
       "  <tbody>\n",
       "    <tr>\n",
       "      <th>0</th>\n",
       "      <td>aphid</td>\n",
       "      <td>0</td>\n",
       "      <td>1.0</td>\n",
       "      <td>19.834058</td>\n",
       "    </tr>\n",
       "    <tr>\n",
       "      <th>1</th>\n",
       "      <td>aphid</td>\n",
       "      <td>0</td>\n",
       "      <td>2.0</td>\n",
       "      <td>70.841565</td>\n",
       "    </tr>\n",
       "    <tr>\n",
       "      <th>2</th>\n",
       "      <td>aphid</td>\n",
       "      <td>0</td>\n",
       "      <td>3.0</td>\n",
       "      <td>264.045832</td>\n",
       "    </tr>\n",
       "    <tr>\n",
       "      <th>3</th>\n",
       "      <td>aphid</td>\n",
       "      <td>0</td>\n",
       "      <td>4.0</td>\n",
       "      <td>620.308179</td>\n",
       "    </tr>\n",
       "    <tr>\n",
       "      <th>4</th>\n",
       "      <td>aphid</td>\n",
       "      <td>0</td>\n",
       "      <td>5.0</td>\n",
       "      <td>434.176215</td>\n",
       "    </tr>\n",
       "    <tr>\n",
       "      <th>5</th>\n",
       "      <td>aphid</td>\n",
       "      <td>0</td>\n",
       "      <td>6.0</td>\n",
       "      <td>96.918214</td>\n",
       "    </tr>\n",
       "    <tr>\n",
       "      <th>6</th>\n",
       "      <td>aphid</td>\n",
       "      <td>0</td>\n",
       "      <td>7.0</td>\n",
       "      <td>38.285263</td>\n",
       "    </tr>\n",
       "    <tr>\n",
       "      <th>7</th>\n",
       "      <td>aphid</td>\n",
       "      <td>0</td>\n",
       "      <td>8.0</td>\n",
       "      <td>15.211379</td>\n",
       "    </tr>\n",
       "  </tbody>\n",
       "</table>\n",
       "</div>"
      ],
      "text/plain": [
       "  variable  time    x     density\n",
       "0    aphid     0  1.0   19.834058\n",
       "1    aphid     0  2.0   70.841565\n",
       "2    aphid     0  3.0  264.045832\n",
       "3    aphid     0  4.0  620.308179\n",
       "4    aphid     0  5.0  434.176215\n",
       "5    aphid     0  6.0   96.918214\n",
       "6    aphid     0  7.0   38.285263\n",
       "7    aphid     0  8.0   15.211379"
      ]
     },
     "execution_count": 4,
     "metadata": {},
     "output_type": "execute_result"
    }
   ],
   "source": [
    "aphid_ic_data"
   ]
  },
  {
   "cell_type": "code",
   "execution_count": 5,
   "metadata": {},
   "outputs": [
    {
     "data": {
      "text/html": [
       "<div>\n",
       "<style scoped>\n",
       "    .dataframe tbody tr th:only-of-type {\n",
       "        vertical-align: middle;\n",
       "    }\n",
       "\n",
       "    .dataframe tbody tr th {\n",
       "        vertical-align: top;\n",
       "    }\n",
       "\n",
       "    .dataframe thead th {\n",
       "        text-align: right;\n",
       "    }\n",
       "</style>\n",
       "<table border=\"1\" class=\"dataframe\">\n",
       "  <thead>\n",
       "    <tr style=\"text-align: right;\">\n",
       "      <th></th>\n",
       "      <th>variable</th>\n",
       "      <th>time</th>\n",
       "      <th>x</th>\n",
       "      <th>density</th>\n",
       "    </tr>\n",
       "  </thead>\n",
       "  <tbody>\n",
       "    <tr>\n",
       "      <th>0</th>\n",
       "      <td>ladybeetle</td>\n",
       "      <td>0</td>\n",
       "      <td>1.0</td>\n",
       "      <td>2.791089</td>\n",
       "    </tr>\n",
       "    <tr>\n",
       "      <th>1</th>\n",
       "      <td>ladybeetle</td>\n",
       "      <td>0</td>\n",
       "      <td>2.0</td>\n",
       "      <td>2.734275</td>\n",
       "    </tr>\n",
       "    <tr>\n",
       "      <th>2</th>\n",
       "      <td>ladybeetle</td>\n",
       "      <td>0</td>\n",
       "      <td>3.0</td>\n",
       "      <td>2.697629</td>\n",
       "    </tr>\n",
       "    <tr>\n",
       "      <th>3</th>\n",
       "      <td>ladybeetle</td>\n",
       "      <td>0</td>\n",
       "      <td>4.0</td>\n",
       "      <td>2.617913</td>\n",
       "    </tr>\n",
       "    <tr>\n",
       "      <th>4</th>\n",
       "      <td>ladybeetle</td>\n",
       "      <td>0</td>\n",
       "      <td>5.0</td>\n",
       "      <td>2.686136</td>\n",
       "    </tr>\n",
       "    <tr>\n",
       "      <th>5</th>\n",
       "      <td>ladybeetle</td>\n",
       "      <td>0</td>\n",
       "      <td>6.0</td>\n",
       "      <td>2.669769</td>\n",
       "    </tr>\n",
       "    <tr>\n",
       "      <th>6</th>\n",
       "      <td>ladybeetle</td>\n",
       "      <td>0</td>\n",
       "      <td>7.0</td>\n",
       "      <td>2.655327</td>\n",
       "    </tr>\n",
       "    <tr>\n",
       "      <th>7</th>\n",
       "      <td>ladybeetle</td>\n",
       "      <td>0</td>\n",
       "      <td>8.0</td>\n",
       "      <td>2.638960</td>\n",
       "    </tr>\n",
       "  </tbody>\n",
       "</table>\n",
       "</div>"
      ],
      "text/plain": [
       "     variable  time    x   density\n",
       "0  ladybeetle     0  1.0  2.791089\n",
       "1  ladybeetle     0  2.0  2.734275\n",
       "2  ladybeetle     0  3.0  2.697629\n",
       "3  ladybeetle     0  4.0  2.617913\n",
       "4  ladybeetle     0  5.0  2.686136\n",
       "5  ladybeetle     0  6.0  2.669769\n",
       "6  ladybeetle     0  7.0  2.655327\n",
       "7  ladybeetle     0  8.0  2.638960"
      ]
     },
     "execution_count": 5,
     "metadata": {},
     "output_type": "execute_result"
    }
   ],
   "source": [
    "ladybeetle_ic_data"
   ]
  },
  {
   "cell_type": "markdown",
   "metadata": {},
   "source": [
    "### Ladybird beetles IC"
   ]
  },
  {
   "cell_type": "markdown",
   "metadata": {},
   "source": [
    "For ladybird beetles is quite simple, we just need to take the mean:"
   ]
  },
  {
   "cell_type": "code",
   "execution_count": 6,
   "metadata": {},
   "outputs": [
    {
     "data": {
      "text/plain": [
       "2.6863873510629865"
      ]
     },
     "execution_count": 6,
     "metadata": {},
     "output_type": "execute_result"
    }
   ],
   "source": [
    "ladybeetle_ic = ladybeetle_ic_data.density.values.mean()\n",
    "\n",
    "ladybeetle_ic"
   ]
  },
  {
   "cell_type": "markdown",
   "metadata": {},
   "source": [
    "### Aphids IC"
   ]
  },
  {
   "cell_type": "markdown",
   "metadata": {},
   "source": [
    "This is a more interesting case. Let's have a look on the points."
   ]
  },
  {
   "cell_type": "code",
   "execution_count": 7,
   "metadata": {},
   "outputs": [
    {
     "data": {
      "image/png": "[encoded data removed]",
      "text/plain": [
       "<Figure size 432x288 with 1 Axes>"
      ]
     },
     "metadata": {
      "needs_background": "light"
     },
     "output_type": "display_data"
    }
   ],
   "source": [
    "import matplotlib.pyplot as plt\n",
    "\n",
    "plt.plot(aphid_ic_data.x.values, aphid_ic_data.density.values, '-o')\n",
    "plt.xlabel('x')\n",
    "plt.ylabel('Population density')\n",
    "plt.show()"
   ]
  },
  {
   "cell_type": "markdown",
   "metadata": {},
   "source": [
    "It quite resembles a gaussian. So let us fit a gaussian to it."
   ]
  },
  {
   "cell_type": "markdown",
   "metadata": {},
   "source": [
    "* Define a gaussian function:"
   ]
  },
  {
   "cell_type": "code",
   "execution_count": 8,
   "metadata": {},
   "outputs": [],
   "source": [
    "import numpy as np\n",
    "from typing import Union\n",
    "\n",
    "def gaussian(\n",
    "    x: Union[float, np.ndarray],\n",
    "    scale_term: float,\n",
    "    mu: float, \n",
    "    sigma: float\n",
    ") -> Union[float, np.ndarray]:\n",
    "    \"\"\"\n",
    "    A univariate gaussian function.\n",
    "    \n",
    "    :param x:\n",
    "        The value to evaluate the gaussian function.\n",
    "        \n",
    "    :param scale_term:\n",
    "        The proportional term that multiplicates the gaussian exponential\n",
    "        term.\n",
    "        \n",
    "    :param mu:\n",
    "        The mean for the gaussian function.\n",
    "        \n",
    "    :param sigma:\n",
    "        The standard deviation.\n",
    "        \n",
    "    :return:\n",
    "        A value, or an array of values, computed with the gaussian function.\n",
    "    \"\"\"\n",
    "    exponential_term = np.exp(- 1.0 / 2.0 * ((x - mu) / sigma) ** 2.0)\n",
    "    return scale_term * exponential_term"
   ]
  },
  {
   "cell_type": "markdown",
   "metadata": {},
   "source": [
    "* We now need to calibrate the parameters of the function. Firstly, we have to define a least-squares residual error function:"
   ]
  },
  {
   "cell_type": "code",
   "execution_count": 9,
   "metadata": {},
   "outputs": [],
   "source": [
    "def calculate_least_squares_error(parameters, x_data, y_data, fitting_model):\n",
    "    args = parameters\n",
    "    y_model = fitting_model(x_data, *args)    \n",
    "    residual = y_data - y_model\n",
    "    return np.sum(residual ** 2.0)"
   ]
  },
  {
   "cell_type": "markdown",
   "metadata": {},
   "source": [
    "* Now we calibrate minimizing the residual applying the Differential Evolution method, a global optimization method, provided by `scipy`:"
   ]
  },
  {
   "cell_type": "code",
   "execution_count": 10,
   "metadata": {},
   "outputs": [
    {
     "name": "stdout",
     "output_type": "stream",
     "text": [
      "differential_evolution step 1: f(x)= 355463\n",
      "parameters = [195.63549367   5.37033824 643.01581751]\n",
      "\n",
      "differential_evolution step 2: f(x)= 355451\n",
      "parameters = [194.74637253   3.13392236 362.68744169]\n",
      "\n",
      "differential_evolution step 3: f(x)= 354818\n",
      "parameters = [195.29219431   4.40594159  42.91756473]\n",
      "\n",
      "differential_evolution step 4: f(x)= 352767\n",
      "parameters = [182.99086019   1.02139934  17.35647956]\n",
      "\n",
      "differential_evolution step 5: f(x)= 350106\n",
      "parameters = [214.03042632   1.80148122  15.52827362]\n",
      "\n",
      "differential_evolution step 6: f(x)= 348893\n",
      "parameters = [214.03042632   3.23636905  13.19985252]\n",
      "\n",
      "differential_evolution step 7: f(x)= 281021\n",
      "parameters = [222.70448192   3.09557883   2.39930845]\n",
      "\n",
      "differential_evolution step 8: f(x)= 257213\n",
      "parameters = [224.61756075   3.54746467   2.73455639]\n",
      "\n",
      "differential_evolution step 9: f(x)= 257213\n",
      "parameters = [224.61756075   3.54746467   2.73455639]\n",
      "\n",
      "differential_evolution step 10: f(x)= 257213\n",
      "parameters = [224.61756075   3.54746467   2.73455639]\n",
      "\n",
      "differential_evolution step 11: f(x)= 257213\n",
      "parameters = [224.61756075   3.54746467   2.73455639]\n",
      "\n",
      "differential_evolution step 12: f(x)= 242597\n",
      "parameters = [220.8332201    4.51905208   2.35696158]\n",
      "\n",
      "differential_evolution step 13: f(x)= 236132\n",
      "parameters = [220.53165321   4.40198386   2.20969287]\n",
      "\n",
      "differential_evolution step 14: f(x)= 236132\n",
      "parameters = [220.53165321   4.40198386   2.20969287]\n",
      "\n",
      "differential_evolution step 15: f(x)= 236132\n",
      "parameters = [220.53165321   4.40198386   2.20969287]\n",
      "\n",
      "differential_evolution step 16: f(x)= 236132\n",
      "parameters = [220.53165321   4.40198386   2.20969287]\n",
      "\n",
      "differential_evolution step 17: f(x)= 236132\n",
      "parameters = [220.53165321   4.40198386   2.20969287]\n",
      "\n",
      "differential_evolution step 18: f(x)= 216763\n",
      "parameters = [233.4978609    4.07518754   1.45896645]\n",
      "\n",
      "differential_evolution step 19: f(x)= 216763\n",
      "parameters = [233.4978609    4.07518754   1.45896645]\n",
      "\n",
      "differential_evolution step 20: f(x)= 198839\n",
      "parameters = [255.22304162   4.51923756   1.46817453]\n",
      "\n",
      "differential_evolution step 21: f(x)= 164001\n",
      "parameters = [284.20855421   4.01709329   1.83290219]\n",
      "\n",
      "differential_evolution step 22: f(x)= 98269.4\n",
      "parameters = [358.53414317   4.12743933   1.56290335]\n",
      "\n",
      "differential_evolution step 23: f(x)= 87914.5\n",
      "parameters = [381.40612541   3.96305878   1.21026741]\n",
      "\n",
      "differential_evolution step 24: f(x)= 73089.5\n",
      "parameters = [428.1695596    3.86758703   1.16453694]\n",
      "\n",
      "differential_evolution step 25: f(x)= 27857.2\n",
      "parameters = [7.09108853e+02 4.20688866e+00 7.05404201e-01]\n",
      "\n",
      "differential_evolution step 26: f(x)= 10942.9\n",
      "parameters = [592.09471027   4.26535785   0.87464206]\n",
      "\n",
      "differential_evolution step 27: f(x)= 10573.6\n",
      "parameters = [580.80173148   4.1615819    1.10956305]\n",
      "\n",
      "differential_evolution step 28: f(x)= 3859.35\n",
      "parameters = [621.58089424   4.25240507   0.93068794]\n",
      "\n",
      "differential_evolution step 29: f(x)= 3859.35\n",
      "parameters = [621.58089424   4.25240507   0.93068794]\n",
      "\n",
      "differential_evolution step 30: f(x)= 3859.35\n",
      "parameters = [621.58089424   4.25240507   0.93068794]\n",
      "\n",
      "differential_evolution step 31: f(x)= 3104.89\n",
      "parameters = [644.36401714   4.18708282   0.9335178 ]\n",
      "\n",
      "differential_evolution step 32: f(x)= 2935.42\n",
      "parameters = [627.18811395   4.18861149   0.96369131]\n",
      "\n",
      "differential_evolution step 33: f(x)= 2935.42\n",
      "parameters = [627.18811395   4.18861149   0.96369131]\n",
      "\n",
      "differential_evolution step 34: f(x)= 2935.42\n",
      "parameters = [627.18811395   4.18861149   0.96369131]\n",
      "\n",
      "differential_evolution step 35: f(x)= 2683.79\n",
      "parameters = [623.26197265   4.2014462    0.94816549]\n",
      "\n",
      "differential_evolution step 36: f(x)= 2683.79\n",
      "parameters = [623.26197265   4.2014462    0.94816549]\n",
      "\n",
      "differential_evolution step 37: f(x)= 2683.79\n",
      "parameters = [623.26197265   4.2014462    0.94816549]\n",
      "\n",
      "differential_evolution step 38: f(x)= 2683.79\n",
      "parameters = [623.26197265   4.2014462    0.94816549]\n",
      "\n",
      "differential_evolution step 39: f(x)= 2674.82\n",
      "parameters = [628.58544881   4.20179031   0.93864527]\n",
      "\n",
      "differential_evolution step 40: f(x)= 2671.76\n",
      "parameters = [628.25661569   4.19838756   0.9401122 ]\n",
      "\n",
      "differential_evolution step 41: f(x)= 2670.87\n",
      "parameters = [627.91677916   4.20179031   0.94298556]\n",
      "\n",
      "differential_evolution step 42: f(x)= 2669.46\n",
      "parameters = [625.92408979   4.20123431   0.94416433]\n",
      "\n",
      "differential_evolution step 43: f(x)= 2668.39\n",
      "parameters = [626.50664149   4.20055671   0.9425525 ]\n",
      "\n",
      "differential_evolution step 44: f(x)= 2667.93\n",
      "parameters = [626.65463243   4.2002275    0.94323253]\n",
      "\n",
      "differential_evolution step 45: f(x)= 2667.85\n",
      "parameters = [626.88106062   4.20005359   0.94274047]\n",
      "\n",
      "differential_evolution step 46: f(x)= 2667.85\n",
      "parameters = [626.88106062   4.20005359   0.94274047]\n",
      "\n",
      "differential_evolution step 47: f(x)= 2667.85\n",
      "parameters = [626.9561064    4.19997577   0.94289032]\n",
      "\n",
      "differential_evolution step 48: f(x)= 2667.85\n",
      "parameters = [626.9561064    4.19997577   0.94289032]\n",
      "\n",
      "differential_evolution step 49: f(x)= 2667.85\n",
      "parameters = [626.9561064    4.19997577   0.94289032]\n",
      "\n",
      "differential_evolution step 50: f(x)= 2667.84\n",
      "parameters = [626.92174441   4.20000254   0.94289272]\n",
      "\n",
      "differential_evolution step 51: f(x)= 2667.84\n",
      "parameters = [626.9263618    4.20001961   0.94286411]\n",
      "\n",
      "differential_evolution step 52: f(x)= 2667.84\n",
      "parameters = [626.9263618    4.20001961   0.94286411]\n",
      "\n",
      "differential_evolution step 53: f(x)= 2667.84\n",
      "parameters = [626.9263618    4.20001961   0.94286411]\n",
      "\n",
      "differential_evolution step 54: f(x)= 2667.84\n",
      "parameters = [626.89905249   4.20005015   0.94287985]\n",
      "\n",
      "differential_evolution step 55: f(x)= 2667.84\n",
      "parameters = [626.8921851    4.19999921   0.94286221]\n",
      "\n",
      "differential_evolution step 56: f(x)= 2667.84\n",
      "parameters = [626.88905913   4.20002835   0.94288833]\n",
      "\n",
      "differential_evolution step 57: f(x)= 2667.84\n",
      "parameters = [626.88905913   4.20002835   0.94288833]\n",
      "\n",
      "differential_evolution step 58: f(x)= 2667.84\n",
      "parameters = [626.90018553   4.20002395   0.942862  ]\n",
      "\n",
      "differential_evolution step 59: f(x)= 2667.84\n",
      "parameters = [626.88975017   4.2000164    0.94288357]\n",
      "\n",
      "differential_evolution step 60: f(x)= 2667.84\n",
      "parameters = [626.90039499   4.20001657   0.94287479]\n",
      "\n",
      "differential_evolution step 61: f(x)= 2667.84\n",
      "parameters = [626.90039499   4.20001657   0.94287479]\n",
      "\n",
      "differential_evolution step 62: f(x)= 2667.84\n",
      "parameters = [626.89572858   4.20001991   0.9428738 ]\n",
      "\n",
      "differential_evolution step 63: f(x)= 2667.84\n",
      "parameters = [626.89572858   4.20001991   0.9428738 ]\n",
      "\n",
      "differential_evolution step 64: f(x)= 2667.84\n",
      "parameters = [626.89572858   4.20001991   0.9428738 ]\n",
      "\n",
      "differential_evolution step 65: f(x)= 2667.84\n",
      "parameters = [626.89610559   4.20001745   0.94287625]\n",
      "\n",
      "differential_evolution step 66: f(x)= 2667.84\n",
      "parameters = [626.89610559   4.20001745   0.94287625]\n",
      "\n",
      "differential_evolution step 67: f(x)= 2667.84\n",
      "parameters = [626.89600543   4.20001901   0.94287642]\n",
      "\n",
      "     fun: 2667.840982164934\n",
      "     jac: array([-0.00268301,  0.009004  ,  0.01687113])\n",
      " message: 'Optimization terminated successfully.'\n",
      "    nfev: 6132\n",
      "     nit: 67\n",
      " success: True\n",
      "       x: array([626.89600543,   4.20001851,   0.94287653])\n"
     ]
    }
   ],
   "source": [
    "from scipy import optimize\n",
    "\n",
    "\n",
    "def callback_de(xk, convergence):\n",
    "    \"\"\"\n",
    "    This function is to show the optimization procedure progress.\n",
    "    \"\"\"\n",
    "    print(f'parameters = {xk}\\n')\n",
    "    \n",
    "\n",
    "parameters_bounds = [(1e-5, 1000), (1e-5, 10), (1e-5, 1000)]\n",
    "x_data = aphid_ic_data.x.values\n",
    "y_data = aphid_ic_data.density.values\n",
    "seed = 1234  # for the sake of reproducibility\n",
    "\n",
    "result= optimize.differential_evolution(\n",
    "    calculate_least_squares_error, \n",
    "    bounds=parameters_bounds, \n",
    "    args=(x_data, y_data, gaussian), \n",
    "    popsize=30,\n",
    "    strategy='best1bin',\n",
    "    tol=1e-8,\n",
    "    recombination=0.7,\n",
    "    maxiter=500,\n",
    "    polish=True,\n",
    "    disp=True,\n",
    "    seed=seed,\n",
    "    callback=callback_de,\n",
    ")\n",
    "\n",
    "print(result)"
   ]
  },
  {
   "cell_type": "markdown",
   "metadata": {},
   "source": [
    "* Retrieving the calibrated parameter values:"
   ]
  },
  {
   "cell_type": "code",
   "execution_count": 11,
   "metadata": {},
   "outputs": [],
   "source": [
    "scale_term, mu, sigma = result.x\n",
    "\n",
    "x = np.linspace(0, 9)\n",
    "aphid_ic_points = gaussian(x, scale_term, mu, sigma)"
   ]
  },
  {
   "cell_type": "markdown",
   "metadata": {},
   "source": [
    "* Plotting the fitted function to compare with data:"
   ]
  },
  {
   "cell_type": "code",
   "execution_count": 12,
   "metadata": {},
   "outputs": [
    {
     "data": {
      "image/png": "[encoded data removed]",
      "text/plain": [
       "<Figure size 720x576 with 1 Axes>"
      ]
     },
     "metadata": {
      "needs_background": "light"
     },
     "output_type": "display_data"
    }
   ],
   "source": [
    "plt.figure(figsize=(10,8))\n",
    "plt.rcParams.update({'font.size': 16})\n",
    "\n",
    "plt.plot(x, aphid_ic_points, '-', label='Fitted IC function')\n",
    "plt.plot(aphid_ic_data.x.values, aphid_ic_data.density.values, '-o', label='Data')\n",
    "\n",
    "plt.title('Aphid Initial Condition')\n",
    "plt.xlabel('x')\n",
    "plt.ylabel('Population density')\n",
    "\n",
    "plt.grid(True)\n",
    "plt.legend(fancybox=True, shadow=True)\n",
    "\n",
    "plt.savefig('fitted_ic.png', dpi=300)\n",
    "plt.show()"
   ]
  },
  {
   "cell_type": "markdown",
   "metadata": {},
   "source": [
    "## First model: classical Lotka-Volterra\n",
    "\n",
    "The problem consists in solving the system:\n",
    "\n",
    "\\begin{equation}\n",
    "\\begin{aligned}\n",
    "u_{t} &=D_{u} u_{x x}+f(u, v) \\\\\n",
    "v_{t} &=D_{v} v_{x x}+g(u, v)\n",
    "\\end{aligned}\n",
    "\\end{equation}\n",
    "\n",
    "in which $u$ is the prey and $v$ the predator, $D_u$ and $D_v$ are the diffusive coefficients, and $f(u, v)$ and $g(u, v)$ are the reactive terms that can have the following form:\n",
    "\n",
    "\\begin{equation}\n",
    "\\begin{array}{c}\n",
    "f(u, v)=r u-a u v \\\\\n",
    "g(u, v)=b a u v-m v\n",
    "\\end{array}\n",
    "\\end{equation}\n",
    "\n",
    "with the constants $r, a, b, m > 0$.\n"
   ]
  },
  {
   "cell_type": "markdown",
   "metadata": {},
   "source": [
    "### Forward simulation"
   ]
  },
  {
   "cell_type": "code",
   "execution_count": 13,
   "metadata": {},
   "outputs": [
    {
     "data": {
      "application/vnd.jupyter.widget-view+json": {
       "model_id": "c0001b1bb0804c41929ce5fc40a27aef",
       "version_major": 2,
       "version_minor": 0
      },
      "text/plain": [
       "HBox(children=(HTML(value=''), FloatProgress(value=0.0, max=2.0), HTML(value='')))"
      ]
     },
     "metadata": {},
     "output_type": "display_data"
    },
    {
     "data": {
      "application/vnd.jupyter.widget-view+json": {
       "model_id": "ca4990ff441440f9b4de99062a3cf36b",
       "version_major": 2,
       "version_minor": 0
      },
      "text/plain": [
       "Output()"
      ]
     },
     "metadata": {},
     "output_type": "display_data"
    },
    {
     "name": "stderr",
     "output_type": "stream",
     "text": [
      "Spent more time on handling trackers (1.9485479569999962) than on the actual simulation (1.750811136000003)\n"
     ]
    }
   ],
   "source": [
    "from pde import (PDE, FieldCollection, PlotTracker, ScalarField, UnitGrid, \n",
    "                 CartesianGrid, MemoryStorage)\n",
    "from pde import ExplicitSolver, ImplicitSolver, Controller, ScipySolver\n",
    "\n",
    "# Species diffusivity coefficients (please be careful with these values)\n",
    "Du = 0.67e-3  # gathered from Banks\n",
    "Dv = 0.21e-2  # gathered from Banks\n",
    "\n",
    "# Banks functional response 1 (case A)\n",
    "r1 = 0.136\n",
    "r2 = 0.48e-3\n",
    "p = 0.032\n",
    "i = 11.0\n",
    "e1 = 0.0012\n",
    "e2 = 20.9\n",
    "e3 = 0.009\n",
    "\n",
    "# Functional response (case A)\n",
    "f_function = f\"+ {r1} * u - {r2} * u * u - {p} * u * v\"  # don't forget to put + (or -) sign in the beginning\n",
    "g_function = f\"+ {i} - ({e1} + {e2} * exp(- {e3} * u)) * v\"\n",
    "\n",
    "# (Dirichlet) Boundary condition example\n",
    "bc_left = {\"value\": 0.0}  # both unknowns are set to zero, unfortunately\n",
    "bc_right = {\"value\": 0.0}\n",
    "bc = [bc_left, bc_right]\n",
    "\n",
    "# Definition of PDE system\n",
    "eq = PDE(\n",
    "    {\n",
    "        \"u\": f\"{Du} * laplace(u)\" + f_function,\n",
    "        \"v\": f\"{Dv} * laplace(v)\" + g_function,\n",
    "    },\n",
    "    bc=bc  # comment here if you want to \"free\" the boundaries\n",
    ")\n",
    "\n",
    "# Defining the mesh\n",
    "x_min, x_max = 0, 9\n",
    "dx = 0.2\n",
    "num_points_in_x = int((x_max - x_min) / dx)\n",
    "grid = CartesianGrid(bounds=[[x_min, x_max]], shape=num_points_in_x)\n",
    "\n",
    "# Initialize state (Initial Conditions)\n",
    "u = ScalarField.from_expression(\n",
    "    grid, \n",
    "    f\"{scale_term} * exp(- 1.0 / 2.0 * ((x - {mu}) / {sigma}) ** 2.0)\", \n",
    "    label=\"Prey\"\n",
    ")\n",
    "v = ScalarField(grid, ladybeetle_ic, label=\"Predator\")\n",
    "state = FieldCollection([u, v])  # state vector\n",
    "\n",
    "# Define time tracker to plot and animate\n",
    "x_axis_limits = (x_min, x_max)\n",
    "y_axis_limits = (0, 650)\n",
    "tracker_plot_config = PlotTracker(show=True, plot_args={\n",
    "        'ax_style': {'xlim': x_axis_limits, 'ylim': y_axis_limits},\n",
    "    }\n",
    ")\n",
    "storage = MemoryStorage()\n",
    "dt = 1e-5\n",
    "trackers = [\n",
    "    \"progress\",  # show progress bar during simulation\n",
    "    \"steady_state\",  # abort if steady state is reached\n",
    "    storage.tracker(interval=1),  # store data every simulation time unit\n",
    "    tracker_plot_config,  # show images during simulation\n",
    "]\n",
    "\n",
    "# Select backend solver\n",
    "# solver = ExplicitSolver(eq)  # Built-in explicit solver\n",
    "solver = ScipySolver(eq, method='LSODA')  # SciPy solver\n",
    "\n",
    "# Setup solver\n",
    "controller = Controller(solver, t_range=[0, 2], tracker=trackers)\n",
    "solve = controller.run(state, dt=dt)"
   ]
  },
  {
   "cell_type": "markdown",
   "metadata": {},
   "source": [
    "Retrieving data stored spaced by 1.0 as time-records:"
   ]
  },
  {
   "cell_type": "code",
   "execution_count": 14,
   "metadata": {},
   "outputs": [
    {
     "data": {
      "text/plain": [
       "[array([4.91157199e-02, 1.20790118e-01, 2.83989210e-01, 6.38310255e-01,\n",
       "        1.37158065e+00, 2.81754216e+00, 5.53323408e+00, 1.03883652e+01,\n",
       "        1.86455381e+01, 3.19935313e+01, 5.24818314e+01, 8.23029365e+01,\n",
       "        1.23390358e+02, 1.76850653e+02, 2.42321336e+02, 3.17421389e+02,\n",
       "        3.97502868e+02, 4.75887055e+02, 5.44661982e+02, 5.95949938e+02,\n",
       "        6.23378818e+02, 6.23381414e+02, 5.95957383e+02, 5.44673323e+02,\n",
       "        4.75900928e+02, 3.97517767e+02, 3.17435930e+02, 2.42334455e+02,\n",
       "        1.76861700e+02, 1.23399094e+02, 8.23094489e+01, 5.24864213e+01,\n",
       "        3.19965959e+01, 1.86474794e+01, 1.03895333e+01, 5.53390237e+00,\n",
       "        2.81790593e+00, 1.37176916e+00, 6.38403300e-01, 2.84032972e-01,\n",
       "        1.20809737e-01, 4.91241068e-02, 1.90961994e-02, 7.09673779e-03,\n",
       "        2.52133251e-03]),\n",
       " array([5.46788748e-02, 1.37333679e-01, 3.22414892e-01, 7.23536953e-01,\n",
       "        1.55198773e+00, 3.18122921e+00, 6.22886051e+00, 1.16427797e+01,\n",
       "        2.07553624e+01, 3.52407553e+01, 5.68848858e+01, 8.70771669e+01,\n",
       "        1.26000409e+02, 1.71774145e+02, 2.20587843e+02, 2.68881007e+02,\n",
       "        3.14935686e+02, 3.57227033e+02, 3.92999364e+02, 4.19011006e+02,\n",
       "        4.32692075e+02, 4.32693362e+02, 4.19014742e+02, 3.93005177e+02,\n",
       "        3.57234359e+02, 3.14943928e+02, 2.68889773e+02, 2.20596911e+02,\n",
       "        1.71783032e+02, 1.26008343e+02, 8.70835861e+01, 5.68896537e+01,\n",
       "        3.52440463e+01, 2.07574911e+01, 1.16440772e+01, 6.22960869e+00,\n",
       "        3.18163845e+00, 1.55220048e+00, 7.23642202e-01, 3.22464541e-01,\n",
       "        1.37366370e-01, 5.59436586e-02, 2.17826041e-02, 8.10845980e-03,\n",
       "        2.82386886e-03]),\n",
       " array([6.11256867e-02, 1.56629034e-01, 3.67226982e-01, 8.22781074e-01,\n",
       "        1.76166837e+00, 3.60278869e+00, 7.03184034e+00, 1.30813038e+01,\n",
       "        2.31500037e+01, 3.88691306e+01, 6.16973708e+01, 9.21654376e+01,\n",
       "        1.28865045e+02, 1.67714279e+02, 2.02762190e+02, 2.29550524e+02,\n",
       "        2.48120015e+02, 2.61217290e+02, 2.70886100e+02, 2.77624695e+02,\n",
       "        2.81150137e+02, 2.81150469e+02, 2.77625657e+02, 2.70887621e+02,\n",
       "        2.61219361e+02, 2.48122857e+02, 2.29554654e+02, 2.02767987e+02,\n",
       "        1.67721307e+02, 1.28872205e+02, 9.21717372e+01, 6.17023109e+01,\n",
       "        3.88726621e+01, 2.31523394e+01, 1.30827474e+01, 7.03267998e+00,\n",
       "        3.60325041e+00, 1.76190921e+00, 8.22900508e-01, 3.67283870e-01,\n",
       "        1.56700395e-01, 6.39173552e-02, 2.49277196e-02, 9.29338916e-03,\n",
       "        3.17610726e-03])]"
      ]
     },
     "execution_count": 14,
     "metadata": {},
     "output_type": "execute_result"
    }
   ],
   "source": [
    "u_storage = storage.extract_field(0)\n",
    "v_storage = storage.extract_field(1)\n",
    "\n",
    "u_storage.data"
   ]
  },
  {
   "cell_type": "markdown",
   "metadata": {},
   "source": [
    "Retrieving mesh coordinates:"
   ]
  },
  {
   "cell_type": "code",
   "execution_count": 15,
   "metadata": {},
   "outputs": [
    {
     "data": {
      "text/plain": [
       "array([0.1, 0.3, 0.5, 0.7, 0.9, 1.1, 1.3, 1.5, 1.7, 1.9, 2.1, 2.3, 2.5,\n",
       "       2.7, 2.9, 3.1, 3.3, 3.5, 3.7, 3.9, 4.1, 4.3, 4.5, 4.7, 4.9, 5.1,\n",
       "       5.3, 5.5, 5.7, 5.9, 6.1, 6.3, 6.5, 6.7, 6.9, 7.1, 7.3, 7.5, 7.7,\n",
       "       7.9, 8.1, 8.3, 8.5, 8.7, 8.9])"
      ]
     },
     "execution_count": 15,
     "metadata": {},
     "output_type": "execute_result"
    }
   ],
   "source": [
    "x_points = grid.axes_coords[0]\n",
    "\n",
    "x_points"
   ]
  },
  {
   "cell_type": "markdown",
   "metadata": {},
   "source": [
    "### Comparing simulation with measurements"
   ]
  },
  {
   "cell_type": "code",
   "execution_count": 16,
   "metadata": {},
   "outputs": [],
   "source": [
    "time_labels_dict = {\n",
    "    0: 0,\n",
    "    1: 2,\n",
    "    2: 3\n",
    "}"
   ]
  },
  {
   "cell_type": "markdown",
   "metadata": {},
   "source": [
    "#### Aphids"
   ]
  },
  {
   "cell_type": "code",
   "execution_count": 17,
   "metadata": {},
   "outputs": [
    {
     "data": {
      "image/png": "[encoded data removed]",
      "text/plain": [
       "<Figure size 576x432 with 1 Axes>"
      ]
     },
     "metadata": {
      "needs_background": "light"
     },
     "output_type": "display_data"
    },
    {
     "data": {
      "image/png": "[encoded data removed]",
      "text/plain": [
       "<Figure size 576x432 with 1 Axes>"
      ]
     },
     "metadata": {
      "needs_background": "light"
     },
     "output_type": "display_data"
    },
    {
     "data": {
      "image/png": "[encoded data removed]",
      "text/plain": [
       "<Figure size 576x432 with 1 Axes>"
      ]
     },
     "metadata": {
      "needs_background": "light"
     },
     "output_type": "display_data"
    }
   ],
   "source": [
    "for time_index, aphid_simulation in enumerate(u_storage.data):\n",
    "    plt.figure(figsize=(8, 6))\n",
    "    plt.ylim([0, 650])\n",
    "    \n",
    "    idx_for_observed = time_labels_dict[time_index]  # we skip time 1/4\n",
    "    aphid_observed = aphid_data[aphid_data.time == idx_for_observed].copy()\n",
    "    plt.plot(aphid_observed.x.values, aphid_observed.density.values, 'o', label='Observed')\n",
    "    plt.plot(x_points, aphid_simulation, '-', label='Simulated')\n",
    "    \n",
    "    plt.xlabel('x')\n",
    "    plt.ylabel('Population density')\n",
    "    plt.title(f'Aphid at time {time_index}')\n",
    "    \n",
    "    plt.grid(True)\n",
    "    plt.legend(shadow=True)\n",
    "    plt.show()"
   ]
  },
  {
   "cell_type": "markdown",
   "metadata": {},
   "source": [
    "#### Ladybird beetles"
   ]
  },
  {
   "cell_type": "code",
   "execution_count": 18,
   "metadata": {},
   "outputs": [
    {
     "data": {
      "image/png": "[encoded data removed]",
      "text/plain": [
       "<Figure size 576x432 with 1 Axes>"
      ]
     },
     "metadata": {
      "needs_background": "light"
     },
     "output_type": "display_data"
    },
    {
     "data": {
      "image/png": "[encoded data removed]",
      "text/plain": [
       "<Figure size 576x432 with 1 Axes>"
      ]
     },
     "metadata": {
      "needs_background": "light"
     },
     "output_type": "display_data"
    },
    {
     "data": {
      "image/png": "[encoded data removed]",
      "text/plain": [
       "<Figure size 576x432 with 1 Axes>"
      ]
     },
     "metadata": {
      "needs_background": "light"
     },
     "output_type": "display_data"
    }
   ],
   "source": [
    "for time_index, ladybeetle_simulation in enumerate(v_storage.data):\n",
    "    plt.figure(figsize=(8, 6))\n",
    "    plt.ylim([0, 13])\n",
    "    \n",
    "    idx_for_observed = time_labels_dict[time_index]  # we skip time 1/4\n",
    "    ladybeetle_observed = ladybeetle_data[ladybeetle_data.time == idx_for_observed].copy()\n",
    "    plt.plot(ladybeetle_observed.x.values, ladybeetle_observed.density.values, 'o', label='Observed')\n",
    "    plt.plot(x_points, ladybeetle_simulation, '-', label='Simulated')\n",
    "    \n",
    "    plt.xlabel('x')\n",
    "    plt.ylabel('Population density')\n",
    "    plt.title(f'Ladybird beetle at time {time_index}')\n",
    "    \n",
    "    plt.grid(True)\n",
    "    plt.legend(shadow=True)\n",
    "    plt.show()"
   ]
  }
 ],
 "metadata": {
  "jupytext": {
   "formats": "ipynb,py:light"
  },
  "kernelspec": {
   "display_name": "Python 3",
   "language": "python",
   "name": "python3"
  },
  "language_info": {
   "codemirror_mode": {
    "name": "ipython",
    "version": 3
   },
   "file_extension": ".py",
   "mimetype": "text/x-python",
   "name": "python",
   "nbconvert_exporter": "python",
   "pygments_lexer": "ipython3",
   "version": "3.8.6"
  }
 },
 "nbformat": 4,
 "nbformat_minor": 4
}

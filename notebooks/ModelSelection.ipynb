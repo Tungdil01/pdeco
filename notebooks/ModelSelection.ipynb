{
 "cells": [
  {
   "cell_type": "code",
   "execution_count": 1,
   "metadata": {},
   "outputs": [],
   "source": [
    "import numpy as np\n",
    "import matplotlib.pyplot as plt\n",
    "import os\n",
    "from scipy.integrate import odeint\n",
    "from scipy.interpolate import CubicSpline\n",
    "from sklearn.gaussian_process.kernels import ExpSineSquared, Matern, RBF, WhiteKernel, RationalQuadratic, DotProduct, ConstantKernel"
   ]
  },
  {
   "cell_type": "code",
   "execution_count": 2,
   "metadata": {},
   "outputs": [],
   "source": [
    "# The following models are phenomenological, based on Banks et al. (1987)\n",
    "\n",
    "def model1(X, t):\n",
    "\tx, y = X\n",
    "\tdXdt = [3.705409 * x - 0.875407 * x * y / ( 1 + 2.0925471112633475e-16 * x  ),\n",
    "\t\t1.136291807280769e-05 * x - 0.0007703183454985423 * y * y\n",
    "\t]\n",
    "\treturn dXdt\n",
    "\n",
    "model1_vars = {\n",
    "\t\"k\": 5,\n",
    "\t\"X0\": np.array([2400.5117688174696, 4.1470588235293935])\n",
    "}\n",
    "\n",
    "def model2(X, t):\n",
    "\tx, y = X\n",
    "\tdXdt = [4.699038 * x - 1.115438 * x * y / ( 1 + 2.5834261183184556e-17 * x  ),\n",
    "\t\t8.917509704299429e-06 * x + 3.706581216964794e-26 * y - 0.0006152529575199094 * y * y\n",
    "\t]\n",
    "\treturn dXdt\n",
    "\n",
    "model2_vars = {\n",
    "\t\"k\": 6,\n",
    "\t\"X0\": np.array([2400.5117688174696, 4.1470588235293935])\n",
    "}\n",
    "\n",
    "# The following models came from the SINDy-SA\n",
    "\n",
    "def model3(X, t): # in the previous this was model 02\n",
    "\tx, y = X\n",
    "\tdXdt = [-1.002712e-04*x**2 + -0.007341637777931233*x*y + 4.070982e-08*x**3,\n",
    "\t\t0.000e+00\n",
    "\t]\n",
    "\treturn dXdt\n",
    "\n",
    "model3_vars = {\n",
    "\t\"k\": 3,\n",
    "\t\"X0\": np.array([2713.7232754553243, 4.147055452699332])\n",
    "}\n",
    "\n",
    "def model4(X, t): # in the previous this was model 09\n",
    "\tx, y = X\n",
    "\tdXdt = [-1.246743e-04*x**2 + 5.017520e-08*x**3 + -0.0016170094762767212*x*y**2,\n",
    "\t\t0.000e+00\n",
    "\t]\n",
    "\treturn dXdt\n",
    "\n",
    "model4_vars = {\n",
    "\t\"k\": 3,\n",
    "\t\"X0\": np.array([2681.4743756420753, 4.1470600152530155])\n",
    "}\n",
    "\n",
    "def model5(X, t):  # in the previous this was model 14\n",
    "\tx, y = X\n",
    "\tdXdt = [-7.713189428726371e-06*x**2 + 5.340231e-08*x**3 + -3.281022e-05*x**2*y + -0.0002904897329707499*x*y**2,\n",
    "\t\t0.000e+00\n",
    "\t]\n",
    "\treturn dXdt\n",
    "\n",
    "model5_vars = {\n",
    "\t\"k\": 4,\n",
    "\t\"X0\": np.array([2719.3794153268414, 4.147056509871602])\n",
    "}"
   ]
  },
  {
   "cell_type": "code",
   "execution_count": 3,
   "metadata": {},
   "outputs": [],
   "source": [
    "def compute_SSE(target, predicted):\n",
    "\tsquared_errors = (target - predicted)**2.0\n",
    "\treturn np.sum(squared_errors)"
   ]
  },
  {
   "cell_type": "code",
   "execution_count": 4,
   "metadata": {},
   "outputs": [],
   "source": [
    "def compute_AIC(n, k, SSE):\n",
    "\tAIC = n*np.log(SSE/n) + 2.0*k\n",
    "\tAICmin = np.amin(AIC)\n",
    "\tDelta_AIC = AIC - AICmin\n",
    "\tlike = np.exp(-0.5*Delta_AIC)\n",
    "\tlikesum = np.sum(like)\n",
    "\tAIC_weights = like/likesum\n",
    "\tprint(\"Melhores modelos AIC = \" + str(np.argsort(AIC_weights)+1) + \"\\n\")\n",
    "\tbest_AIC_model = np.argmax(AIC_weights)\n",
    "\tAIC_evid_ratio = AIC_weights[best_AIC_model]/AIC_weights\n",
    "\treturn best_AIC_model"
   ]
  },
  {
   "cell_type": "code",
   "execution_count": 5,
   "metadata": {},
   "outputs": [],
   "source": [
    "def compute_AICc(n, k, SSE):\n",
    "\tAICc = n*np.log(SSE/n) + 2.0*k  + (2.0*k*(k + 1.0))/(n - k - 1.0)\n",
    "\tAICcmin = np.amin(AICc)\n",
    "\tDelta_AICc = AICc - AICcmin\n",
    "\tlikec = np.exp(-0.5*Delta_AICc)\n",
    "\tlikecsum = np.sum(likec)\n",
    "\tAICc_weights = likec/likecsum\n",
    "\tprint(\"Melhores modelos AICc = \" + str(np.argsort(AICc_weights)+1) + \"\\n\")\n",
    "\tbest_AICc_model = np.argmax(AICc_weights)\n",
    "\tAICc_evid_ratio = AICc_weights[best_AICc_model]/AICc_weights\n",
    "\treturn best_AICc_model"
   ]
  },
  {
   "cell_type": "code",
   "execution_count": 6,
   "metadata": {},
   "outputs": [],
   "source": [
    "def compute_BIC(n, k, SSE):\n",
    "\tBIC = n*np.log(SSE/n) + k*np.log(n)\n",
    "\tBICmin = np.amin(BIC)\n",
    "\tDelta_BIC = BIC - BICmin\n",
    "\tBICsum = np.sum(np.exp(-0.5*Delta_BIC))\n",
    "\tBIC_prob = np.exp(-0.5*Delta_BIC)/BICsum\n",
    "\tprint(\"Melhores modelos BIC = \" + str(np.argsort(BIC_prob)+1) + \"\\n\")\n",
    "\tbest_BIC_model = np.argmax(BIC_prob)\n",
    "\treturn best_BIC_model"
   ]
  },
  {
   "cell_type": "code",
   "execution_count": 7,
   "metadata": {},
   "outputs": [],
   "source": [
    "# Read train data\n",
    "data = np.genfromtxt(\"data.csv\", dtype = float, delimiter = ',', names = True)\n",
    "t = data[\"Time\"]\n",
    "X_aphid = data[\"Aphid\"].reshape((-1, 1))\n",
    "X_ladybeetle = data[\"Ladybeetle\"].reshape((-1, 1))\n",
    "X = np.hstack((X_aphid, X_ladybeetle))\n",
    "\n",
    "X0 = X[0, :]\n",
    "t_steps = len(t)"
   ]
  },
  {
   "cell_type": "code",
   "execution_count": 8,
   "metadata": {},
   "outputs": [],
   "source": [
    "# Read test data\n",
    "data_test = np.genfromtxt(\"data.csv\", dtype = float, delimiter = ',', names = True)\n",
    "t_test = data_test[\"Time\"]\n",
    "X_test_aphid = data_test[\"Aphid\"].reshape((-1, 1))\n",
    "X_test_ladybeetle = data_test[\"Ladybeetle\"].reshape((-1, 1))\n",
    "X_test = np.hstack((X_test_aphid, X_test_ladybeetle))\n",
    "\n",
    "X0_test = X_test[0, :]"
   ]
  },
  {
   "cell_type": "code",
   "execution_count": 9,
   "metadata": {},
   "outputs": [],
   "source": [
    "# Simulate models\n",
    "model1_vars[\"simulation\"] = odeint(model1, model1_vars[\"X0\"], t_test)\n",
    "model2_vars[\"simulation\"] = odeint(model2, model2_vars[\"X0\"], t_test)\n",
    "model3_vars[\"simulation\"] = odeint(model3, model3_vars[\"X0\"], t_test)\n",
    "model4_vars[\"simulation\"] = odeint(model4, model4_vars[\"X0\"], t_test)\n",
    "model5_vars[\"simulation\"] = odeint(model5, model5_vars[\"X0\"], t_test)"
   ]
  },
  {
   "cell_type": "code",
   "execution_count": 10,
   "metadata": {},
   "outputs": [],
   "source": [
    "# Compute SSE\n",
    "model1_vars[\"SSE\"] = compute_SSE(X_test.reshape(model1_vars[\"simulation\"].shape), model1_vars[\"simulation\"])\n",
    "model2_vars[\"SSE\"] = compute_SSE(X_test.reshape(model2_vars[\"simulation\"].shape), model2_vars[\"simulation\"])\n",
    "model3_vars[\"SSE\"] = compute_SSE(X_test.reshape(model3_vars[\"simulation\"].shape), model3_vars[\"simulation\"])\n",
    "model4_vars[\"SSE\"] = compute_SSE(X_test.reshape(model4_vars[\"simulation\"].shape), model4_vars[\"simulation\"])\n",
    "model5_vars[\"SSE\"] = compute_SSE(X_test.reshape(model5_vars[\"simulation\"].shape), model5_vars[\"simulation\"])"
   ]
  },
  {
   "cell_type": "code",
   "execution_count": 11,
   "metadata": {},
   "outputs": [],
   "source": [
    "# Define information criteria parameters\n",
    "k = np.array([model1_vars[\"k\"],\n",
    "\tmodel2_vars[\"k\"],\n",
    "\tmodel3_vars[\"k\"],\n",
    "\tmodel4_vars[\"k\"],\n",
    "\tmodel5_vars[\"k\"],\n",
    "])\n",
    "SSE = np.array([model1_vars[\"SSE\"],\n",
    "\tmodel2_vars[\"SSE\"],\n",
    "\tmodel3_vars[\"SSE\"],\n",
    "\tmodel4_vars[\"SSE\"],\n",
    "\tmodel5_vars[\"SSE\"],\n",
    "])"
   ]
  },
  {
   "cell_type": "code",
   "execution_count": 12,
   "metadata": {},
   "outputs": [
    {
     "name": "stdout",
     "output_type": "stream",
     "text": [
      "Melhores modelos AIC = [3 5 4 2 1]\n",
      "\n",
      "Melhores modelos AICc = [5 3 4 2 1]\n",
      "\n",
      "Melhores modelos BIC = [5 3 4 2 1]\n",
      "\n"
     ]
    }
   ],
   "source": [
    "# Compute AIC and AICc\n",
    "best_AIC_model = compute_AIC(t_steps, k, SSE)\n",
    "best_AICc_model = compute_AICc(t_steps, k, SSE)\n",
    "best_BIC_model = compute_BIC(t_steps, k, SSE)"
   ]
  }
 ],
 "metadata": {
  "jupytext": {
   "encoding": "# -*- coding: utf-8 -*-",
   "formats": "ipynb,py:light"
  },
  "kernelspec": {
   "display_name": "Python 3",
   "language": "python",
   "name": "python3"
  },
  "language_info": {
   "codemirror_mode": {
    "name": "ipython",
    "version": 3
   },
   "file_extension": ".py",
   "mimetype": "text/x-python",
   "name": "python",
   "nbconvert_exporter": "python",
   "pygments_lexer": "ipython3",
   "version": "3.8.10"
  }
 },
 "nbformat": 4,
 "nbformat_minor": 4
}
